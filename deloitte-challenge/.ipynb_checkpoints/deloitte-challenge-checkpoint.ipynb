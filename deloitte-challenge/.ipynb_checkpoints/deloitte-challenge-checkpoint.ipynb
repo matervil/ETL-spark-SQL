{
 "cells": [
  {
   "cell_type": "code",
   "execution_count": 1,
   "id": "79d414c9",
   "metadata": {},
   "outputs": [],
   "source": [
    "# Excel file shouldn't be open. \n",
    "# CSV files shouldn't be open."
   ]
  },
  {
   "cell_type": "code",
   "execution_count": 2,
   "id": "7c1e34e7",
   "metadata": {},
   "outputs": [],
   "source": [
    "# Required libraries"
   ]
  },
  {
   "cell_type": "code",
   "execution_count": 3,
   "id": "57ddb4b9",
   "metadata": {},
   "outputs": [],
   "source": [
    "import pandas as pd\n",
    "from pyspark.sql import SparkSession\n",
    "from pyspark.context import SparkContext\n",
    "from pyspark.sql.types import *\n",
    "from pyspark.sql.functions import *"
   ]
  },
  {
   "cell_type": "code",
   "execution_count": 4,
   "id": "aa9a3809",
   "metadata": {},
   "outputs": [],
   "source": [
    "# creating a dictionary to get all the sheets\n",
    "df_dict = pd.read_excel('./data.xlsx', sheet_name=None)"
   ]
  },
  {
   "cell_type": "code",
   "execution_count": 5,
   "id": "b68a2158",
   "metadata": {},
   "outputs": [],
   "source": [
    "# Using the sheet names I save the dfs and then I export them into csv file in the same directory\n",
    "sheets = ['homologacion_pais','homologacion_rating','rating_empresa','rating_soberano']\n",
    "\n",
    "for sheet in sheets:\n",
    "    df = df_dict.get(sheet)\n",
    "    df.to_csv('./'+sheet+'.csv', sep='|')"
   ]
  },
  {
   "cell_type": "code",
   "execution_count": 6,
   "id": "6ba0556b",
   "metadata": {},
   "outputs": [],
   "source": [
    "sc = SparkSession.builder.appName(\"PysparkDeloitte\")\\\n",
    ".config (\"spark.sql.shuffle.partitions\", \"50\")\\\n",
    ".config(\"spark.driver.maxResultSize\",\"5g\")\\\n",
    ".config (\"spark.sql.execution.arrow.enabled\", \"true\")\\\n",
    ".getOrCreate()"
   ]
  },
  {
   "cell_type": "code",
   "execution_count": 7,
   "id": "d63fac98",
   "metadata": {},
   "outputs": [],
   "source": [
    "#Creates a spark data frame called as raw_data.\n",
    "#CSV FILES# \n",
    "df_hp = sc.read.csv(sheets[0]+'.csv', sep='|', header=True)\n",
    "df_hr = sc.read.csv(sheets[1]+'.csv', sep='|', header=True)\n",
    "df_re = sc.read.csv(sheets[2]+'.csv', sep='|', header=True)\n",
    "df_rs = sc.read.csv(sheets[3]+'.csv', sep='|', header=True)"
   ]
  },
  {
   "cell_type": "code",
   "execution_count": 32,
   "id": "b332bfec",
   "metadata": {},
   "outputs": [],
   "source": [
    "# rating_empresa needs to integrate pais, rating_empresa and then rating_soberano"
   ]
  },
  {
   "cell_type": "code",
   "execution_count": 33,
   "id": "d3b59269",
   "metadata": {},
   "outputs": [],
   "source": [
    "df_hp.createOrReplaceTempView(\"H_PAIS\")\n",
    "df_hr.createOrReplaceTempView(\"H_RATING\")\n",
    "df_re.createOrReplaceTempView(\"R_EMPRESA\")\n",
    "df_rs.createOrReplaceTempView(\"R_SOBERANO\")"
   ]
  },
  {
   "cell_type": "code",
   "execution_count": 34,
   "id": "151958c2",
   "metadata": {},
   "outputs": [],
   "source": [
    "# First: we integrate PAIS into the dataframe df_re that we are going to use as a master\n",
    "df_master = df_re.join(df_hp, df_re.pais_bbg == upper(df_hp.pais_bbg), \"inner\")\n",
    "df_master.createOrReplaceTempView(\"MASTER\")"
   ]
  },
  {
   "cell_type": "code",
   "execution_count": 48,
   "id": "753a00cd",
   "metadata": {},
   "outputs": [
    {
     "name": "stdout",
     "output_type": "stream",
     "text": [
      "+--------+---+--------------------+--------------+------+-------+\n",
      "|     rut| dv|              nombre|          pais|rating|agencia|\n",
      "+--------+---+--------------------+--------------+------+-------+\n",
      "|41001042|  9|        UBS AG SUIZA|         suiza|   Aa2|    MDY|\n",
      "|42002576|  9|BANCOBCO COLPATRI...|      colombia|  Baa2|    MDY|\n",
      "|40000098|  0|    BBVA Colombia SA|      colombia|  Baa1|    MDY|\n",
      "|41001047|  K|BCO DE OCCIDENTE ...|      colombia|    NR|    MDY|\n",
      "|41001110|  7|             BANCAFE|      colombia|  Baa2|    MDY|\n",
      "|41001068|  2|          BCO BOGOTA|      colombia|  Baa2|    MDY|\n",
      "|44000136|  K|China Merchants B...|       bahamas|    A3|    MDY|\n",
      "|41203019|  2|BCO MERCANTIL DEL...|        mexico|  Baa1|    MDY|\n",
      "|40000116|  2|BCO DE CREDITO DE...|          peru|    A3|    MDY|\n",
      "|40000032|  8|BCO CONTINENTAL LIMA|          peru|    A3|    MDY|\n",
      "|41001363|  0|BCO SAFRA SA CAMP...|        brasil|   Ba1|    MDY|\n",
      "|41001310|  K|BCO DO BRASIL S A...|        brasil|   Ba1|    MDY|\n",
      "|42001513|  5|BANCO SANTANDER B...|        brasil|   Ba1|    MDY|\n",
      "|41001123|  9|BCO BRADESCO SA B...|        brasil|   Ba1|    MDY|\n",
      "|40000177|  4|   ITAU UNIBANCO S-A|        brasil|   Ba1|    MDY|\n",
      "|42003381|  8|JPMORGAN CHASE BA...|estados unidos|   Aa2|    MDY|\n",
      "|41203200|  4|HSBC Bank USA, Na...|estados unidos|   Aa3|    MDY|\n",
      "|42002574|  2|             US BANK|estados unidos|   Aa3|    MDY|\n",
      "|41202846|  5|         TRUIST BANK|estados unidos|    A2|    MDY|\n",
      "|41203327|  2|MERCANTILE BANK O...|estados unidos|     -|    MDY|\n",
      "+--------+---+--------------------+--------------+------+-------+\n",
      "only showing top 20 rows\n",
      "\n"
     ]
    }
   ],
   "source": [
    "df_master_noagg = sc.sql(\"select rut, dv, nombre, pais, mdy as rating, 'MDY' as agencia from MASTER union all select rut, dv, nombre, pais, sp as rating, 'SP' as agencia from MASTER union all select rut, dv, nombre, pais, fitch as rating, 'FITCH' as agencia from MASTER\")\n",
    "df_master_noagg.createOrReplaceTempView(\"MASTER_NOAGG\")\n",
    "df_master_noagg.show()"
   ]
  },
  {
   "cell_type": "code",
   "execution_count": 41,
   "id": "034f56f8",
   "metadata": {},
   "outputs": [
    {
     "name": "stdout",
     "output_type": "stream",
     "text": [
      "+--------+---+--------------------+--------------+------+-------+-----------+------------+\n",
      "|     rut| dv|              nombre|          pais|rating|agencia|orden_norma|rating_norma|\n",
      "+--------+---+--------------------+--------------+------+-------+-----------+------------+\n",
      "|41001042|  9|        UBS AG SUIZA|         suiza|   Aa2|    MDY|          3|          AA|\n",
      "|42002576|  9|BANCOBCO COLPATRI...|      colombia|  Baa2|    MDY|          9|         BBB|\n",
      "|40000098|  0|    BBVA Colombia SA|      colombia|  Baa1|    MDY|          8|        BBB+|\n",
      "|41001047|  K|BCO DE OCCIDENTE ...|      colombia|    NR|    MDY|       null|        null|\n",
      "|41001110|  7|             BANCAFE|      colombia|  Baa2|    MDY|          9|         BBB|\n",
      "|41001068|  2|          BCO BOGOTA|      colombia|  Baa2|    MDY|          9|         BBB|\n",
      "|44000136|  K|China Merchants B...|       bahamas|    A3|    MDY|          7|          A-|\n",
      "|41203019|  2|BCO MERCANTIL DEL...|        mexico|  Baa1|    MDY|          8|        BBB+|\n",
      "|40000116|  2|BCO DE CREDITO DE...|          peru|    A3|    MDY|          7|          A-|\n",
      "|40000032|  8|BCO CONTINENTAL LIMA|          peru|    A3|    MDY|          7|          A-|\n",
      "|41001363|  0|BCO SAFRA SA CAMP...|        brasil|   Ba1|    MDY|         11|         BB+|\n",
      "|41001310|  K|BCO DO BRASIL S A...|        brasil|   Ba1|    MDY|         11|         BB+|\n",
      "|42001513|  5|BANCO SANTANDER B...|        brasil|   Ba1|    MDY|         11|         BB+|\n",
      "|41001123|  9|BCO BRADESCO SA B...|        brasil|   Ba1|    MDY|         11|         BB+|\n",
      "|40000177|  4|   ITAU UNIBANCO S-A|        brasil|   Ba1|    MDY|         11|         BB+|\n",
      "|42003381|  8|JPMORGAN CHASE BA...|estados unidos|   Aa2|    MDY|          3|          AA|\n",
      "|41203200|  4|HSBC Bank USA, Na...|estados unidos|   Aa3|    MDY|          4|         AA-|\n",
      "|42002574|  2|             US BANK|estados unidos|   Aa3|    MDY|          4|         AA-|\n",
      "|41202846|  5|         TRUIST BANK|estados unidos|    A2|    MDY|          6|           A|\n",
      "|41203327|  2|MERCANTILE BANK O...|estados unidos|     -|    MDY|       null|        null|\n",
      "+--------+---+--------------------+--------------+------+-------+-----------+------------+\n",
      "only showing top 20 rows\n",
      "\n"
     ]
    }
   ],
   "source": [
    "df_master_noagg_on = sc.sql('select M.*, HR.orden_norma, HR.rating_norma from MASTER_NOAGG M LEFT JOIN H_RATING HR ON M.RATING=HR.RATING AND M.AGENCIA=HR.AGENCIA_HOMOL')\n",
    "df_master_noagg_on.createOrReplaceTempView(\"MASTER_NOAGG_ON\")\n",
    "df_master_noagg_on.show()"
   ]
  },
  {
   "cell_type": "code",
   "execution_count": 43,
   "id": "904d820e",
   "metadata": {},
   "outputs": [
    {
     "name": "stdout",
     "output_type": "stream",
     "text": [
      "+--------+---+--------------------+--------------+------+-------+-----------+------------+----+\n",
      "|     rut| dv|              nombre|          pais|rating|agencia|orden_norma|rating_norma|rank|\n",
      "+--------+---+--------------------+--------------+------+-------+-----------+------------+----+\n",
      "|40000008|  5|SOCIETE GENERAL P...|       francia|    A-|  FITCH|          7|          A-|   1|\n",
      "|40000008|  5|SOCIETE GENERAL P...|       francia|     A|     SP|          6|           A|   2|\n",
      "|40000008|  5|SOCIETE GENERAL P...|       francia|    A1|    MDY|          5|          A+|   3|\n",
      "|40000016|  6|DEUTSCHE BANK AG-...|      alemania|   BBB|  FITCH|          9|         BBB|   1|\n",
      "|40000016|  6|DEUTSCHE BANK AG-...|      alemania|  BBB+|     SP|          8|        BBB+|   2|\n",
      "|40000016|  6|DEUTSCHE BANK AG-...|      alemania|    A3|    MDY|          7|          A-|   3|\n",
      "|40000032|  8|BCO CONTINENTAL LIMA|          peru|  BBB+|     SP|          8|        BBB+|   1|\n",
      "|40000032|  8|BCO CONTINENTAL LIMA|          peru|  BBB+|  FITCH|          8|        BBB+|   1|\n",
      "|40000032|  8|BCO CONTINENTAL LIMA|          peru|    A3|    MDY|          7|          A-|   3|\n",
      "|40000039|  5|RAIFFEISEN ZENTRA...|       austria|    A3|    MDY|          7|          A-|   1|\n",
      "|40000039|  5|RAIFFEISEN ZENTRA...|       austria|    NR|     SP|       null|        null|   2|\n",
      "|40000039|  5|RAIFFEISEN ZENTRA...|       austria|    WD|  FITCH|       null|        null|   2|\n",
      "|40000070|  0|BBANK OF AMERICA ...|estados unidos|    A+|     SP|          5|          A+|   1|\n",
      "|40000070|  0|BBANK OF AMERICA ...|estados unidos|   AA-|  FITCH|          4|         AA-|   2|\n",
      "|40000070|  0|BBANK OF AMERICA ...|estados unidos|   Aa2|    MDY|          3|          AA|   3|\n",
      "|40000098|  0|    BBVA Colombia SA|      colombia|   BBB|  FITCH|          9|         BBB|   1|\n",
      "|40000098|  0|    BBVA Colombia SA|      colombia|  Baa1|    MDY|          8|        BBB+|   2|\n",
      "|40000098|  0|    BBVA Colombia SA|      colombia|    NR|     SP|       null|        null|   3|\n",
      "|40000116|  2|BCO DE CREDITO DE...|          peru|  BBB+|     SP|          8|        BBB+|   1|\n",
      "|40000116|  2|BCO DE CREDITO DE...|          peru|  BBB+|  FITCH|          8|        BBB+|   1|\n",
      "+--------+---+--------------------+--------------+------+-------+-----------+------------+----+\n",
      "only showing top 20 rows\n",
      "\n"
     ]
    }
   ],
   "source": [
    "df_master_noagg_on_ranked = sc.sql('select *, rank() OVER(PARTITION BY rut,dv,nombre,pais ORDER BY orden_norma DESC) as rank from MASTER_NOAGG_ON')\n",
    "df_master_noagg_on_ranked.createOrReplaceTempView(\"MASTER_NOAGG_ON_RANKED\")\n",
    "df_master_noagg_on_ranked.show()"
   ]
  },
  {
   "cell_type": "code",
   "execution_count": 49,
   "id": "86b67608",
   "metadata": {},
   "outputs": [
    {
     "name": "stdout",
     "output_type": "stream",
     "text": [
      "+--------+---+--------------------+--------------+--------------+\n",
      "|     rut| dv|              nombre|          pais|rating_empresa|\n",
      "+--------+---+--------------------+--------------+--------------+\n",
      "|40000008|  5|SOCIETE GENERAL P...|       francia|            A-|\n",
      "|40000016|  6|DEUTSCHE BANK AG-...|      alemania|           BBB|\n",
      "|40000032|  8|BCO CONTINENTAL LIMA|          peru|          BBB+|\n",
      "|40000039|  5|RAIFFEISEN ZENTRA...|       austria|            A-|\n",
      "|40000070|  0|BBANK OF AMERICA ...|estados unidos|            A+|\n",
      "|40000098|  0|    BBVA Colombia SA|      colombia|           BBB|\n",
      "|40000116|  2|BCO DE CREDITO DE...|          peru|          BBB+|\n",
      "|40000154|  5|BNP PARIBAS S.A. ...|       francia|            A+|\n",
      "|40000177|  4|   ITAU UNIBANCO S-A|        brasil|           BB-|\n",
      "|40000315|  7|LLOYS BANK INTERN...|   reino unido|          null|\n",
      "|40000355|  6|BAYERISCHE LANDES...|estados unidos|            A-|\n",
      "|40000412|  9|       HSBC Bank PLC|   reino unido|            A+|\n",
      "|41001007|  0|    Mizuho Bank Ltd.|         japon|            A-|\n",
      "|41001042|  9|        UBS AG SUIZA|         suiza|            A+|\n",
      "|41001047|  K|BCO DE OCCIDENTE ...|      colombia|          BBB-|\n",
      "|41001068|  2|          BCO BOGOTA|      colombia|           BBB|\n",
      "|41001073|  9|LANDESBANK HESSEN...|      alemania|             A|\n",
      "|41001101|  8| JPMORGAN CHASE BANK|estados unidos|            A-|\n",
      "|41001110|  7|             BANCAFE|      colombia|           BBB|\n",
      "|41001123|  9|BCO BRADESCO SA B...|        brasil|           BB-|\n",
      "+--------+---+--------------------+--------------+--------------+\n",
      "only showing top 20 rows\n",
      "\n"
     ]
    }
   ],
   "source": [
    "df_master2 = sc.sql('select rut,dv,nombre,pais,rating_norma as rating_empresa from MASTER_NOAGG_ON_RANKED where rank = 1').dropDuplicates()\n",
    "df_master2.createOrReplaceTempView(\"MASTER2\")\n",
    "df_master2.show()"
   ]
  },
  {
   "cell_type": "code",
   "execution_count": 54,
   "id": "93595a69",
   "metadata": {},
   "outputs": [
    {
     "name": "stdout",
     "output_type": "stream",
     "text": [
      "+---+--------------------+------------------+--------------------+--------------------+--------------------+--------------------+\n",
      "|_c0|            pais_bbg|            ticker|              region|                  sp|               fitch|                 mdy|\n",
      "+---+--------------------+------------------+--------------------+--------------------+--------------------+--------------------+\n",
      "|  0|           Abu Dhabi|1022337Z UH Equity|  Africa/Middle East|                  AA|                  AA|                 Aa2|\n",
      "|  1|             Albania|   1001Z AL Equity|      Eastern Europe|                  B+|                null|                  B1|\n",
      "|  2|             Algeria|   3700Z US Equity|  Africa/Middle East|                null|                null|                null|\n",
      "|  3|             Andorra|   1095Z SM Equity|      Western Europe|                 BBB|                null|                null|\n",
      "|  4|              Angola|  32272Z AX Equity|  Africa/Middle East|                CCC+|                 CCC|                Caa1|\n",
      "|  5|           Argentina|   1310Z AR Equity|South/Central Ame...|                CCC+|                  WD|                  Ca|\n",
      "|  6|             Armenia|  32672Z US Equity|      Eastern Europe|                null|                  B+|                 Ba3|\n",
      "|  7|               Aruba| 185378Z NT Equity|South/Central Ame...|                 BBB|                  BB|                null|\n",
      "|  8|           Australia|   1525Z AU Equity|    Asia/Pacific Rim|                AAAu|                 AAA|                 Aaa|\n",
      "|  9|             Austria|   1480Z AV Equity|      Western Europe|                 AA+|                 AA+|                 Aa1|\n",
      "| 10|          Azerbaijan|   1088Z AZ Equity|      Eastern Europe|                 BB+|                 BB+|                 Ba2|\n",
      "| 11|             Bahamas|   7196Z US Equity|       North America|                 BB-|                null|                 Ba2|\n",
      "| 12|             Bahrain|3343879Z BI Equity|  Africa/Middle East|                  B+|                  B+|                 B2u|\n",
      "| 13|Bailiwick Of Guer...|3399922Z GU Equity|      Western Europe|#N/A Invalid Secu...|#N/A Invalid Secu...|#N/A Invalid Secu...|\n",
      "| 14|          Bangladesh|  43886Z BD Equity|    Asia/Pacific Rim|                 BB-|                null|                 Ba3|\n",
      "| 15|            Barbados|3343887Z BA Equity|       North America|                  B-|                null|                Caa1|\n",
      "| 16|             Belarus|   1001Z RB Equity|      Eastern Europe|                   B|                null|                 B3u|\n",
      "| 17|             Belgium| 111136Z BB Equity|      Western Europe|                 AAu|                 AA-|                 Aa3|\n",
      "| 18|              Belize|   1001Z ZB Equity|South/Central Ame...|                  CC|                null|                Caa3|\n",
      "| 19|               Benin|  32682Z US Equity|  Africa/Middle East|                  B+|                null|                  B1|\n",
      "+---+--------------------+------------------+--------------------+--------------------+--------------------+--------------------+\n",
      "only showing top 20 rows\n",
      "\n"
     ]
    }
   ],
   "source": [
    "# rating_soberano cleaning\n",
    "# rating_soberano spliting\n",
    "# join entre rating_soberano splited y rating_soberano\n",
    "df_rs.show()"
   ]
  },
  {
   "cell_type": "code",
   "execution_count": 58,
   "id": "617d0e3a",
   "metadata": {},
   "outputs": [
    {
     "name": "stdout",
     "output_type": "stream",
     "text": [
      "+--------------------+--------------------+--------------------+--------------------+\n",
      "|            pais_bbg|                  SP|               FITCH|                 MDY|\n",
      "+--------------------+--------------------+--------------------+--------------------+\n",
      "|           Abu Dhabi|                  AA|                  AA|                 Aa2|\n",
      "|             Albania|                  B+|                null|                  B1|\n",
      "|             Algeria|                null|                null|                null|\n",
      "|             Andorra|                 BBB|                null|                null|\n",
      "|              Angola|                CCC+|                 CCC|                Caa1|\n",
      "|           Argentina|                CCC+|                  WD|                  Ca|\n",
      "|             Armenia|                null|                  B+|                 Ba3|\n",
      "|               Aruba|                 BBB|                  BB|                null|\n",
      "|           Australia|                 AAA|                 AAA|                 Aaa|\n",
      "|             Austria|                 AA+|                 AA+|                 Aa1|\n",
      "|          Azerbaijan|                 BB+|                 BB+|                 Ba2|\n",
      "|             Bahamas|                 BB-|                null|                 Ba2|\n",
      "|             Bahrain|                  B+|                  B+|                  B2|\n",
      "|Bailiwick Of Guer...|#N/A Invalid Secrity|#N/A Invalid Secrity|#N/A Invalid Secrity|\n",
      "|          Bangladesh|                 BB-|                null|                 Ba3|\n",
      "|            Barbados|                  B-|                null|                Caa1|\n",
      "|             Belarus|                   B|                null|                  B3|\n",
      "|             Belgium|                  AA|                 AA-|                 Aa3|\n",
      "|              Belize|                  CC|                null|                Caa3|\n",
      "|               Benin|                  B+|                null|                  B1|\n",
      "+--------------------+--------------------+--------------------+--------------------+\n",
      "only showing top 20 rows\n",
      "\n"
     ]
    }
   ],
   "source": [
    "df_rs_wu = sc.sql('select pais_bbg, REPLACE(sp,\"u\",\"\") as SP, REPLACE(fitch,\"u\",\"\") as FITCH, REPLACE(mdy,\"u\",\"\") as MDY from R_SOBERANO')\n",
    "df_rs_wu.createOrReplaceTempView(\"R_SOBERANO_WU\")\n",
    "df_rs_wu.show()"
   ]
  },
  {
   "cell_type": "code",
   "execution_count": null,
   "id": "8a751e1e",
   "metadata": {},
   "outputs": [],
   "source": [
    "sc.sql('select pais_bbg, SP as rating, \"\" from R_SOBERANO_WU')"
   ]
  }
 ],
 "metadata": {
  "kernelspec": {
   "display_name": "Python 3 (ipykernel)",
   "language": "python",
   "name": "python3"
  },
  "language_info": {
   "codemirror_mode": {
    "name": "ipython",
    "version": 3
   },
   "file_extension": ".py",
   "mimetype": "text/x-python",
   "name": "python",
   "nbconvert_exporter": "python",
   "pygments_lexer": "ipython3",
   "version": "3.9.12"
  }
 },
 "nbformat": 4,
 "nbformat_minor": 5
}
