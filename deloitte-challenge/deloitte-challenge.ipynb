{
 "cells": [
  {
   "cell_type": "code",
   "execution_count": 1,
   "id": "57ddb4b9",
   "metadata": {},
   "outputs": [],
   "source": [
    "import pandas as pd\n",
    "from pyspark.sql import SparkSession\n",
    "from pyspark.context import SparkContext\n",
    "from pyspark.sql.types import *\n",
    "from pyspark.sql.functions import *"
   ]
  },
  {
   "cell_type": "code",
   "execution_count": 2,
   "id": "aa9a3809",
   "metadata": {},
   "outputs": [],
   "source": [
    "# creating a dictionary to get all the sheets\n",
    "df_dict = pd.read_excel('./data.xlsx', sheet_name=None)"
   ]
  },
  {
   "cell_type": "code",
   "execution_count": 3,
   "id": "b68a2158",
   "metadata": {},
   "outputs": [],
   "source": [
    "# Using the sheet names I save the dfs and then I export them into csv file in the same directory\n",
    "sheets = ['homologacion_pais','homologacion_rating','rating_empresa','rating_soberano']\n",
    "\n",
    "for sheet in sheets:\n",
    "    df = df_dict.get(sheet)\n",
    "    df.to_csv('./'+sheet+'.csv', sep='|')"
   ]
  },
  {
   "cell_type": "code",
   "execution_count": 4,
   "id": "6ba0556b",
   "metadata": {},
   "outputs": [],
   "source": [
    "sc = SparkSession.builder.appName(\"PysparkDeloitte\")\\\n",
    ".config (\"spark.sql.shuffle.partitions\", \"50\")\\\n",
    ".config(\"spark.driver.maxResultSize\",\"5g\")\\\n",
    ".config (\"spark.sql.execution.arrow.enabled\", \"true\")\\\n",
    ".getOrCreate()"
   ]
  },
  {
   "cell_type": "code",
   "execution_count": 5,
   "id": "d63fac98",
   "metadata": {},
   "outputs": [],
   "source": [
    "#Creates a spark data frame called as raw_data.\n",
    "#CSV FILES# \n",
    "df_hp = sc.read.csv(sheets[0]+'.csv', sep='|', header=True)\n",
    "df_hr = sc.read.csv(sheets[1]+'.csv', sep='|', header=True)\n",
    "df_re = sc.read.csv(sheets[2]+'.csv', sep='|', header=True)\n",
    "df_rs = sc.read.csv(sheets[3]+'.csv', sep='|', header=True)"
   ]
  },
  {
   "cell_type": "code",
   "execution_count": 6,
   "id": "b332bfec",
   "metadata": {},
   "outputs": [],
   "source": [
    "# rating_empresa needs to integrate pais, rating_empresa and then rating_soberano"
   ]
  },
  {
   "cell_type": "code",
   "execution_count": 7,
   "id": "d3b59269",
   "metadata": {},
   "outputs": [],
   "source": [
    "df_hp.createOrReplaceTempView(\"H_PAIS\")\n",
    "df_hr.createOrReplaceTempView(\"H_RATING\")\n",
    "df_re.createOrReplaceTempView(\"R_EMPRESA\")\n",
    "df_rs.createOrReplaceTempView(\"R_SOBERANO\")"
   ]
  },
  {
   "cell_type": "code",
   "execution_count": 8,
   "id": "151958c2",
   "metadata": {},
   "outputs": [
    {
     "name": "stdout",
     "output_type": "stream",
     "text": [
      "+--------+---+--------------------+--------------------+--------------+---+----+-----+\n",
      "|     rut| dv|              nombre|            pais_bbg|          pais|mdy|  sp|fitch|\n",
      "+--------+---+--------------------+--------------------+--------------+---+----+-----+\n",
      "|41203332|  9|INDUSTRIAL AND CO...|               CHINA|         CHINA| A1|   A|    A|\n",
      "|40000177|  4|   ITAU UNIBANCO S-A|              BRAZIL|        BRASIL|Ba1| BB-|   BB|\n",
      "|41001123|  9|BCO BRADESCO SA B...|              BRAZIL|        BRASIL|Ba1| BB-|   BB|\n",
      "|42001513|  5|BANCO SANTANDER B...|              BRAZIL|        BRASIL|Ba1| BB-|   WD|\n",
      "|41001310|  K|BCO DO BRASIL S A...|              BRAZIL|        BRASIL|Ba1| BB-|  BB-|\n",
      "|41202256|  4|BANK OF CHINA HON...|               CHINA|         CHINA| A1|   A|    A|\n",
      "|44000061|  4|CHINA CONSTRUCTIO...|               CHINA|         CHINA| A1|   A|    A|\n",
      "|41001391|  6|CITIBANK NA ESTAD...|UNITED STATES OF ...|ESTADOS UNIDOS|Aa3|  A+|   A+|\n",
      "|41001363|  0|BCO SAFRA SA CAMP...|              BRAZIL|        BRASIL|Ba1| BB-|   WD|\n",
      "|40000070|  0|BBANK OF AMERICA ...|UNITED STATES OF ...|ESTADOS UNIDOS|Aa2|  A+|  AA-|\n",
      "|40000154|  5|BNP PARIBAS S.A. ...|              FRANCE|       FRANCIA|Aa3|  A+|   A+|\n",
      "|41202507|  5|AGRICULTURAL BANK...|               CHINA|         CHINA| A1|   A|    A|\n",
      "|41202238|  6|OVERSEA CHINESE B...|           SINGAPORE|      SINGAPUR|Aa1| AA-|  AA-|\n",
      "|41001270|  7|  BANK HAPOALIM B.M.|              ISRAEL|        ISRAEL| A1|   A|    A|\n",
      "|41202365|  K| Coperative Rabobank|         NETHERLANDS|  PAISES BAJOS|Aa2|  A+|   A+|\n",
      "|41203226|  8|KOOKMIN BANK - COREA|  KOREA, REPUBLIC OF| COREA DEL SUR|Aa3|  A+|    A|\n",
      "|41202513|  K|CITIBANK REINO UNIDO|      UNITED KINGDOM|   REINO UNIDO|  -|   -|    -|\n",
      "|41001073|  9|LANDESBANK HESSEN...|             GERMANY|      ALEMANIA|Aa3|   A|   A+|\n",
      "|41001244|  8|COMMERZBANK AG - ...|             GERMANY|      ALEMANIA| A1|BBB+|  BBB|\n",
      "|41001850|  0|BANCO SANTANDER M...|               SPAIN|        ESPANA| A2|   A|   A-|\n",
      "+--------+---+--------------------+--------------------+--------------+---+----+-----+\n",
      "only showing top 20 rows\n",
      "\n"
     ]
    }
   ],
   "source": [
    "# First: we integrate PAIS into the dataframe df_re that we are going to use as a master\n",
    "#df_master = df_re.join(df_hp, df_re.pais_bbg == upper(df_hp.pais_bbg), \"inner\")\n",
    "\n",
    "df_master = sc.sql('select rut, dv, nombre, RE.pais_bbg, upper(HP.pais) as pais, mdy, sp, fitch from R_EMPRESA RE left join H_PAIS HP on upper(RE.pais_bbg) == upper(HP.pais_bbg)')\n",
    "df_master.createOrReplaceTempView(\"MASTER\")\n",
    "df_master.show()"
   ]
  },
  {
   "cell_type": "code",
   "execution_count": 9,
   "id": "18bb968b",
   "metadata": {},
   "outputs": [
    {
     "name": "stdout",
     "output_type": "stream",
     "text": [
      "+--------+---+--------------------+--------------------+--------------+------+-------+\n",
      "|     rut| dv|              nombre|            pais_bbg|          pais|rating|agencia|\n",
      "+--------+---+--------------------+--------------------+--------------+------+-------+\n",
      "|41203332|  9|INDUSTRIAL AND CO...|               CHINA|         CHINA|    A1|    MDY|\n",
      "|40000177|  4|   ITAU UNIBANCO S-A|              BRAZIL|        BRASIL|   Ba1|    MDY|\n",
      "|41001123|  9|BCO BRADESCO SA B...|              BRAZIL|        BRASIL|   Ba1|    MDY|\n",
      "|42001513|  5|BANCO SANTANDER B...|              BRAZIL|        BRASIL|   Ba1|    MDY|\n",
      "|41001310|  K|BCO DO BRASIL S A...|              BRAZIL|        BRASIL|   Ba1|    MDY|\n",
      "|41202256|  4|BANK OF CHINA HON...|               CHINA|         CHINA|    A1|    MDY|\n",
      "|44000061|  4|CHINA CONSTRUCTIO...|               CHINA|         CHINA|    A1|    MDY|\n",
      "|41001391|  6|CITIBANK NA ESTAD...|UNITED STATES OF ...|ESTADOS UNIDOS|   Aa3|    MDY|\n",
      "|41001363|  0|BCO SAFRA SA CAMP...|              BRAZIL|        BRASIL|   Ba1|    MDY|\n",
      "|40000070|  0|BBANK OF AMERICA ...|UNITED STATES OF ...|ESTADOS UNIDOS|   Aa2|    MDY|\n",
      "|40000154|  5|BNP PARIBAS S.A. ...|              FRANCE|       FRANCIA|   Aa3|    MDY|\n",
      "|41202507|  5|AGRICULTURAL BANK...|               CHINA|         CHINA|    A1|    MDY|\n",
      "|41202238|  6|OVERSEA CHINESE B...|           SINGAPORE|      SINGAPUR|   Aa1|    MDY|\n",
      "|41001270|  7|  BANK HAPOALIM B.M.|              ISRAEL|        ISRAEL|    A1|    MDY|\n",
      "|41202365|  K| Coperative Rabobank|         NETHERLANDS|  PAISES BAJOS|   Aa2|    MDY|\n",
      "|41203226|  8|KOOKMIN BANK - COREA|  KOREA, REPUBLIC OF| COREA DEL SUR|   Aa3|    MDY|\n",
      "|41202513|  K|CITIBANK REINO UNIDO|      UNITED KINGDOM|   REINO UNIDO|     -|    MDY|\n",
      "|41001073|  9|LANDESBANK HESSEN...|             GERMANY|      ALEMANIA|   Aa3|    MDY|\n",
      "|41001244|  8|COMMERZBANK AG - ...|             GERMANY|      ALEMANIA|    A1|    MDY|\n",
      "|41001850|  0|BANCO SANTANDER M...|               SPAIN|        ESPANA|    A2|    MDY|\n",
      "+--------+---+--------------------+--------------------+--------------+------+-------+\n",
      "only showing top 20 rows\n",
      "\n"
     ]
    }
   ],
   "source": [
    "df_master_noagg = sc.sql(\"select rut, dv, nombre, pais_bbg, pais, mdy as rating, 'MDY' as agencia from MASTER union all select rut, dv, nombre, pais_bbg, pais, sp as rating, 'SP' as agencia from MASTER union all select rut, dv, nombre, pais_bbg, pais, fitch as rating, 'FITCH' as agencia from MASTER\")\n",
    "df_master_noagg.createOrReplaceTempView(\"MASTER_NOAGG\")\n",
    "df_master_noagg.show()"
   ]
  },
  {
   "cell_type": "code",
   "execution_count": 10,
   "id": "0a61d88b",
   "metadata": {},
   "outputs": [
    {
     "name": "stdout",
     "output_type": "stream",
     "text": [
      "+--------+---+--------------------+--------------------+--------------+------+-------+-----------+------------+\n",
      "|     rut| dv|              nombre|            pais_bbg|          pais|rating|agencia|orden_norma|rating_norma|\n",
      "+--------+---+--------------------+--------------------+--------------+------+-------+-----------+------------+\n",
      "|41203327|  2|MERCANTILE BANK O...|UNITED STATES OF ...|ESTADOS UNIDOS|     -|    MDY|       null|        null|\n",
      "|41203327|  2|MERCANTILE BANK O...|UNITED STATES OF ...|ESTADOS UNIDOS|     -|     SP|       null|        null|\n",
      "|41203327|  2|MERCANTILE BANK O...|UNITED STATES OF ...|ESTADOS UNIDOS|     -|  FITCH|       null|        null|\n",
      "+--------+---+--------------------+--------------------+--------------+------+-------+-----------+------------+\n",
      "\n"
     ]
    }
   ],
   "source": [
    "df_master_noagg_on = sc.sql('select M.*, HR.orden_norma, HR.rating_norma from MASTER_NOAGG M LEFT JOIN H_RATING HR ON M.RATING=HR.RATING AND M.AGENCIA=HR.AGENCIA_HOMOL')\n",
    "df_master_noagg_on.createOrReplaceTempView(\"MASTER_NOAGG_ON\")\n",
    "df_master_noagg_on.filter(df_master_noagg_on['nombre']=='MERCANTILE BANK OF ST LOUIS USA').show()"
   ]
  },
  {
   "cell_type": "code",
   "execution_count": 11,
   "id": "41295ed8",
   "metadata": {},
   "outputs": [
    {
     "name": "stdout",
     "output_type": "stream",
     "text": [
      "+--------+---+--------------------+--------------------+--------------+------+-------+-----------+------------+----+\n",
      "|     rut| dv|              nombre|            pais_bbg|          pais|rating|agencia|orden_norma|rating_norma|rank|\n",
      "+--------+---+--------------------+--------------------+--------------+------+-------+-----------+------------+----+\n",
      "|40000008|  5|SOCIETE GENERAL P...|              FRANCE|       FRANCIA|    A-|  FITCH|          7|          A-|   1|\n",
      "|40000008|  5|SOCIETE GENERAL P...|              FRANCE|       FRANCIA|     A|     SP|          6|           A|   2|\n",
      "|40000008|  5|SOCIETE GENERAL P...|              FRANCE|       FRANCIA|    A1|    MDY|          5|          A+|   3|\n",
      "|40000016|  6|DEUTSCHE BANK AG-...|             GERMANY|      ALEMANIA|   BBB|  FITCH|          9|         BBB|   1|\n",
      "|40000016|  6|DEUTSCHE BANK AG-...|             GERMANY|      ALEMANIA|  BBB+|     SP|          8|        BBB+|   2|\n",
      "|40000016|  6|DEUTSCHE BANK AG-...|             GERMANY|      ALEMANIA|    A3|    MDY|          7|          A-|   3|\n",
      "|40000032|  8|BCO CONTINENTAL LIMA|                PERU|          PERU|  BBB+|     SP|          8|        BBB+|   1|\n",
      "|40000032|  8|BCO CONTINENTAL LIMA|                PERU|          PERU|  BBB+|  FITCH|          8|        BBB+|   1|\n",
      "|40000032|  8|BCO CONTINENTAL LIMA|                PERU|          PERU|    A3|    MDY|          7|          A-|   3|\n",
      "|40000039|  5|RAIFFEISEN ZENTRA...|             AUSTRIA|       AUSTRIA|    A3|    MDY|          7|          A-|   1|\n",
      "|40000039|  5|RAIFFEISEN ZENTRA...|             AUSTRIA|       AUSTRIA|    NR|     SP|       null|        null|   2|\n",
      "|40000039|  5|RAIFFEISEN ZENTRA...|             AUSTRIA|       AUSTRIA|    WD|  FITCH|       null|        null|   2|\n",
      "|40000070|  0|BBANK OF AMERICA ...|UNITED STATES OF ...|ESTADOS UNIDOS|    A+|     SP|          5|          A+|   1|\n",
      "|40000070|  0|BBANK OF AMERICA ...|UNITED STATES OF ...|ESTADOS UNIDOS|   AA-|  FITCH|          4|         AA-|   2|\n",
      "|40000070|  0|BBANK OF AMERICA ...|UNITED STATES OF ...|ESTADOS UNIDOS|   Aa2|    MDY|          3|          AA|   3|\n",
      "|40000098|  0|    BBVA Colombia SA|            COLOMBIA|      COLOMBIA|   BBB|  FITCH|          9|         BBB|   1|\n",
      "|40000098|  0|    BBVA Colombia SA|            COLOMBIA|      COLOMBIA|  Baa1|    MDY|          8|        BBB+|   2|\n",
      "|40000098|  0|    BBVA Colombia SA|            COLOMBIA|      COLOMBIA|    NR|     SP|       null|        null|   3|\n",
      "|40000116|  2|BCO DE CREDITO DE...|                PERU|          PERU|  BBB+|     SP|          8|        BBB+|   1|\n",
      "|40000116|  2|BCO DE CREDITO DE...|                PERU|          PERU|  BBB+|  FITCH|          8|        BBB+|   1|\n",
      "+--------+---+--------------------+--------------------+--------------+------+-------+-----------+------------+----+\n",
      "only showing top 20 rows\n",
      "\n"
     ]
    }
   ],
   "source": [
    "df_master_noagg_on_ranked = sc.sql('select *, rank() OVER(PARTITION BY rut,dv,nombre,pais_bbg,pais ORDER BY orden_norma DESC) as rank from MASTER_NOAGG_ON')\n",
    "df_master_noagg_on_ranked.createOrReplaceTempView(\"MASTER_NOAGG_ON_RANKED\")\n",
    "df_master_noagg_on_ranked.show()"
   ]
  },
  {
   "cell_type": "code",
   "execution_count": 12,
   "id": "7d9ddc5c",
   "metadata": {},
   "outputs": [
    {
     "name": "stdout",
     "output_type": "stream",
     "text": [
      "+--------+---+--------------------+--------------------+--------------+--------------+\n",
      "|     rut| dv|              nombre|            pais_bbg|          pais|rating_empresa|\n",
      "+--------+---+--------------------+--------------------+--------------+--------------+\n",
      "|40000008|  5|SOCIETE GENERAL P...|              FRANCE|       FRANCIA|            A-|\n",
      "|40000016|  6|DEUTSCHE BANK AG-...|             GERMANY|      ALEMANIA|           BBB|\n",
      "|40000032|  8|BCO CONTINENTAL LIMA|                PERU|          PERU|          BBB+|\n",
      "|40000039|  5|RAIFFEISEN ZENTRA...|             AUSTRIA|       AUSTRIA|            A-|\n",
      "|40000070|  0|BBANK OF AMERICA ...|UNITED STATES OF ...|ESTADOS UNIDOS|            A+|\n",
      "|40000098|  0|    BBVA Colombia SA|            COLOMBIA|      COLOMBIA|           BBB|\n",
      "|40000116|  2|BCO DE CREDITO DE...|                PERU|          PERU|          BBB+|\n",
      "|40000154|  5|BNP PARIBAS S.A. ...|              FRANCE|       FRANCIA|            A+|\n",
      "|40000177|  4|   ITAU UNIBANCO S-A|              BRAZIL|        BRASIL|           BB-|\n",
      "|40000315|  7|LLOYS BANK INTERN...|      UNITED KINGDOM|   REINO UNIDO|          null|\n",
      "|40000355|  6|BAYERISCHE LANDES...|UNITED STATES OF ...|ESTADOS UNIDOS|            A-|\n",
      "|40000412|  9|       HSBC Bank PLC|      UNITED KINGDOM|   REINO UNIDO|            A+|\n",
      "|41001007|  0|    Mizuho Bank Ltd.|               JAPAN|         JAPON|            A-|\n",
      "|41001042|  9|        UBS AG SUIZA|         SWITZERLAND|         SUIZA|            A+|\n",
      "|41001047|  K|BCO DE OCCIDENTE ...|            COLOMBIA|      COLOMBIA|          BBB-|\n",
      "|41001068|  2|          BCO BOGOTA|            COLOMBIA|      COLOMBIA|           BBB|\n",
      "|41001073|  9|LANDESBANK HESSEN...|             GERMANY|      ALEMANIA|             A|\n",
      "|41001101|  8| JPMORGAN CHASE BANK|UNITED STATES OF ...|ESTADOS UNIDOS|            A-|\n",
      "|41001110|  7|             BANCAFE|            COLOMBIA|      COLOMBIA|           BBB|\n",
      "|41001123|  9|BCO BRADESCO SA B...|              BRAZIL|        BRASIL|           BB-|\n",
      "+--------+---+--------------------+--------------------+--------------+--------------+\n",
      "only showing top 20 rows\n",
      "\n"
     ]
    }
   ],
   "source": [
    "df_master2 = sc.sql('select rut,dv,nombre,pais_bbg,pais,rating_norma as rating_empresa from MASTER_NOAGG_ON_RANKED where rank = 1').dropDuplicates()\n",
    "df_master2.createOrReplaceTempView(\"MASTER2\")\n",
    "df_master2.show()"
   ]
  },
  {
   "cell_type": "code",
   "execution_count": 13,
   "id": "5073d24b",
   "metadata": {},
   "outputs": [
    {
     "name": "stdout",
     "output_type": "stream",
     "text": [
      "+--------------------+--------------------+--------------------+--------------------+\n",
      "|            pais_bbg|                  SP|               FITCH|                 MDY|\n",
      "+--------------------+--------------------+--------------------+--------------------+\n",
      "|           Abu Dhabi|                  AA|                  AA|                 Aa2|\n",
      "|             Albania|                  B+|                null|                  B1|\n",
      "|             Algeria|                null|                null|                null|\n",
      "|             Andorra|                 BBB|                null|                null|\n",
      "|              Angola|                CCC+|                 CCC|                Caa1|\n",
      "|           Argentina|                CCC+|                  WD|                  Ca|\n",
      "|             Armenia|                null|                  B+|                 Ba3|\n",
      "|               Aruba|                 BBB|                  BB|                null|\n",
      "|           Australia|                 AAA|                 AAA|                 Aaa|\n",
      "|             Austria|                 AA+|                 AA+|                 Aa1|\n",
      "|          Azerbaijan|                 BB+|                 BB+|                 Ba2|\n",
      "|             Bahamas|                 BB-|                null|                 Ba2|\n",
      "|             Bahrain|                  B+|                  B+|                  B2|\n",
      "|Bailiwick Of Guer...|#N/A Invalid Secrity|#N/A Invalid Secrity|#N/A Invalid Secrity|\n",
      "|          Bangladesh|                 BB-|                null|                 Ba3|\n",
      "|            Barbados|                  B-|                null|                Caa1|\n",
      "|             Belarus|                   B|                null|                  B3|\n",
      "|             Belgium|                  AA|                 AA-|                 Aa3|\n",
      "|              Belize|                  CC|                null|                Caa3|\n",
      "|               Benin|                  B+|                null|                  B1|\n",
      "+--------------------+--------------------+--------------------+--------------------+\n",
      "only showing top 20 rows\n",
      "\n"
     ]
    }
   ],
   "source": [
    "df_rs_wu = sc.sql('select pais_bbg, REPLACE(sp,\"u\",\"\") as SP, REPLACE(fitch,\"u\",\"\") as FITCH, REPLACE(mdy,\"u\",\"\") as MDY from R_SOBERANO')\n",
    "df_rs_wu.createOrReplaceTempView(\"R_SOBERANO_WU\")\n",
    "df_rs_wu.show()"
   ]
  },
  {
   "cell_type": "code",
   "execution_count": 14,
   "id": "2a197aa6",
   "metadata": {},
   "outputs": [
    {
     "name": "stdout",
     "output_type": "stream",
     "text": [
      "+--------------------+--------------------+--------------------+--------------------+\n",
      "|            pais_bbg|                  SP|               FITCH|                 MDY|\n",
      "+--------------------+--------------------+--------------------+--------------------+\n",
      "|           Abu Dhabi|                  AA|                  AA|                 Aa2|\n",
      "|             Albania|                  B+|                null|                  B1|\n",
      "|             Algeria|                null|                null|                null|\n",
      "|             Andorra|                 BBB|                null|                null|\n",
      "|              Angola|                CCC+|                 CCC|                Caa1|\n",
      "|           Argentina|                CCC+|                  WD|                  Ca|\n",
      "|             Armenia|                null|                  B+|                 Ba3|\n",
      "|               Aruba|                 BBB|                  BB|                null|\n",
      "|           Australia|                 AAA|                 AAA|                 Aaa|\n",
      "|             Austria|                 AA+|                 AA+|                 Aa1|\n",
      "|          Azerbaijan|                 BB+|                 BB+|                 Ba2|\n",
      "|             Bahamas|                 BB-|                null|                 Ba2|\n",
      "|             Bahrain|                  B+|                  B+|                  B2|\n",
      "|Bailiwick Of Guer...|#N/A Invalid Secrity|#N/A Invalid Secrity|#N/A Invalid Secrity|\n",
      "|          Bangladesh|                 BB-|                null|                 Ba3|\n",
      "|            Barbados|                  B-|                null|                Caa1|\n",
      "|             Belarus|                   B|                null|                  B3|\n",
      "|             Belgium|                  AA|                 AA-|                 Aa3|\n",
      "|              Belize|                  CC|                null|                Caa3|\n",
      "|               Benin|                  B+|                null|                  B1|\n",
      "+--------------------+--------------------+--------------------+--------------------+\n",
      "only showing top 20 rows\n",
      "\n"
     ]
    }
   ],
   "source": [
    "df_rs_cleaned = sc.sql('select CASE WHEN pais_bbg = \"United States\" THEN \"United States of America\" WHEN pais_bbg = \"South Korea\" THEN \"Korea, Republic of\" ELSE pais_bbg END as pais_bbg , SP, FITCH, MDY from R_SOBERANO_WU')\n",
    "df_rs_cleaned.createOrReplaceTempView(\"R_SOBERANO_WU\")\n",
    "df_rs_cleaned.show()"
   ]
  },
  {
   "cell_type": "code",
   "execution_count": 15,
   "id": "3dc11efe",
   "metadata": {},
   "outputs": [
    {
     "name": "stdout",
     "output_type": "stream",
     "text": [
      "+--------+------+-------+\n",
      "|pais_bbg|rating|agencia|\n",
      "+--------+------+-------+\n",
      "|   Chile|     A|     SP|\n",
      "|   Chile|    A-|  FITCH|\n",
      "|   Chile|    A1|    MDY|\n",
      "+--------+------+-------+\n",
      "\n"
     ]
    }
   ],
   "source": [
    "df_rs_wu_noagg = sc.sql(\"select pais_bbg, SP as rating, 'SP' as agencia from R_SOBERANO_WU union all select pais_bbg, FITCH as rating, 'FITCH' as agencia from R_SOBERANO_WU union all select pais_bbg, MDY as rating, 'MDY' as agencia from R_SOBERANO_WU\")\n",
    "df_rs_wu_noagg.createOrReplaceTempView(\"R_SOBERANO_WU_NOAGG\")\n",
    "df_rs_wu_noagg.filter(df_rs_wu_noagg['pais_bbg']=='Chile').show()"
   ]
  },
  {
   "cell_type": "code",
   "execution_count": 16,
   "id": "d04de2ba",
   "metadata": {
    "scrolled": false
   },
   "outputs": [
    {
     "name": "stdout",
     "output_type": "stream",
     "text": [
      "+--------------------+--------------------+-------+-----------+------------+\n",
      "|            pais_bbg|              rating|agencia|orden_norma|rating_norma|\n",
      "+--------------------+--------------------+-------+-----------+------------+\n",
      "|           Abu Dhabi|                  AA|     SP|          3|          AA|\n",
      "|             Albania|                  B+|     SP|         14|          B+|\n",
      "|             Algeria|                null|     SP|       null|        null|\n",
      "|             Andorra|                 BBB|     SP|          9|         BBB|\n",
      "|              Angola|                CCC+|     SP|         17|        CCC+|\n",
      "|           Argentina|                CCC+|     SP|         17|        CCC+|\n",
      "|             Armenia|                null|     SP|       null|        null|\n",
      "|               Aruba|                 BBB|     SP|          9|         BBB|\n",
      "|           Australia|                 AAA|     SP|          1|         AAA|\n",
      "|             Austria|                 AA+|     SP|          2|         AA+|\n",
      "|          Azerbaijan|                 BB+|     SP|         11|         BB+|\n",
      "|             Bahamas|                 BB-|     SP|         13|         BB-|\n",
      "|             Bahrain|                  B+|     SP|         14|          B+|\n",
      "|Bailiwick Of Guer...|#N/A Invalid Secrity|     SP|       null|        null|\n",
      "|          Bangladesh|                 BB-|     SP|         13|         BB-|\n",
      "|            Barbados|                  B-|     SP|         16|          B-|\n",
      "|             Belarus|                   B|     SP|         15|           B|\n",
      "|             Belgium|                  AA|     SP|          3|          AA|\n",
      "|              Belize|                  CC|     SP|         20|          CC|\n",
      "|               Benin|                  B+|     SP|         14|          B+|\n",
      "+--------------------+--------------------+-------+-----------+------------+\n",
      "only showing top 20 rows\n",
      "\n"
     ]
    }
   ],
   "source": [
    "df_master3_noagg_on = sc.sql('select M.*, HR.orden_norma, HR.rating_norma from R_SOBERANO_WU_NOAGG M left join H_RATING HR ON M.RATING=HR.RATING AND M.AGENCIA=HR.AGENCIA_HOMOL')\n",
    "df_master3_noagg_on.createOrReplaceTempView(\"MASTER3_NOAGG_ON\")\n",
    "df_master3_noagg_on.show()"
   ]
  },
  {
   "cell_type": "code",
   "execution_count": 17,
   "id": "3860f748",
   "metadata": {},
   "outputs": [
    {
     "name": "stdout",
     "output_type": "stream",
     "text": [
      "+---------+------+-------+-----------+------------+----+\n",
      "| pais_bbg|rating|agencia|orden_norma|rating_norma|rank|\n",
      "+---------+------+-------+-----------+------------+----+\n",
      "|Abu Dhabi|    AA|     SP|          3|          AA|   1|\n",
      "|Abu Dhabi|    AA|  FITCH|          3|          AA|   1|\n",
      "|Abu Dhabi|   Aa2|    MDY|          3|          AA|   1|\n",
      "|  Albania|    B+|     SP|         14|          B+|   1|\n",
      "|  Albania|    B1|    MDY|         14|          B+|   1|\n",
      "|  Albania|  null|  FITCH|       null|        null|   3|\n",
      "|  Algeria|  null|     SP|       null|        null|   1|\n",
      "|  Algeria|  null|  FITCH|       null|        null|   1|\n",
      "|  Algeria|  null|    MDY|       null|        null|   1|\n",
      "|  Andorra|   BBB|     SP|          9|         BBB|   1|\n",
      "|  Andorra|  null|  FITCH|       null|        null|   2|\n",
      "|  Andorra|  null|    MDY|       null|        null|   2|\n",
      "|   Angola|   CCC|  FITCH|         18|         CCC|   1|\n",
      "|   Angola|  CCC+|     SP|         17|        CCC+|   2|\n",
      "|   Angola|  Caa1|    MDY|         17|        CCC+|   2|\n",
      "|Argentina|  CCC+|     SP|         17|        CCC+|   1|\n",
      "|Argentina|    WD|  FITCH|       null|        null|   2|\n",
      "|Argentina|    Ca|    MDY|       null|        null|   2|\n",
      "|  Armenia|    B+|  FITCH|         14|          B+|   1|\n",
      "|  Armenia|   Ba3|    MDY|         13|         BB-|   2|\n",
      "+---------+------+-------+-----------+------------+----+\n",
      "only showing top 20 rows\n",
      "\n"
     ]
    }
   ],
   "source": [
    "df_master3_noagg_on_ranked = sc.sql('select *, rank() OVER(PARTITION BY pais_bbg ORDER BY orden_norma DESC) as rank from MASTER3_NOAGG_ON')\n",
    "df_master3_noagg_on_ranked.createOrReplaceTempView(\"MASTER3_NOAGG_ON_RANKED\")\n",
    "df_master3_noagg_on_ranked.show()"
   ]
  },
  {
   "cell_type": "code",
   "execution_count": 22,
   "id": "028def14",
   "metadata": {},
   "outputs": [
    {
     "name": "stdout",
     "output_type": "stream",
     "text": [
      "+--------------------+---------------+\n",
      "|            pais_bbg|rating_soberano|\n",
      "+--------------------+---------------+\n",
      "|United States of ...|            AA+|\n",
      "+--------------------+---------------+\n",
      "\n"
     ]
    }
   ],
   "source": [
    "df_master3 = sc.sql('select pais_bbg, rating_norma as rating_soberano from MASTER3_NOAGG_ON_RANKED where rank = 1').dropDuplicates()\n",
    "df_master3.createOrReplaceTempView(\"RATING_SOBERANO_HOMOL\")\n",
    "df_master3.show()"
   ]
  },
  {
   "cell_type": "code",
   "execution_count": 19,
   "id": "4945db3a",
   "metadata": {
    "scrolled": false
   },
   "outputs": [
    {
     "name": "stdout",
     "output_type": "stream",
     "text": [
      "+--------+---+--------------------+--------------+--------------+---------------+\n",
      "|     rut| dv|              nombre|          pais|rating_empresa|rating_soberano|\n",
      "+--------+---+--------------------+--------------+--------------+---------------+\n",
      "|40000008|  5|SOCIETE GENERAL P...|       FRANCIA|            A-|             AA|\n",
      "|40000016|  6|DEUTSCHE BANK AG-...|      ALEMANIA|           BBB|            AAA|\n",
      "|40000032|  8|BCO CONTINENTAL LIMA|          PERU|          BBB+|           BBB+|\n",
      "|40000039|  5|RAIFFEISEN ZENTRA...|       AUSTRIA|            A-|            AA+|\n",
      "|40000070|  0|BBANK OF AMERICA ...|ESTADOS UNIDOS|            A+|            AA+|\n",
      "|40000098|  0|    BBVA Colombia SA|      COLOMBIA|           BBB|            BBB|\n",
      "|40000116|  2|BCO DE CREDITO DE...|          PERU|          BBB+|           BBB+|\n",
      "|40000154|  5|BNP PARIBAS S.A. ...|       FRANCIA|            A+|             AA|\n",
      "|40000177|  4|   ITAU UNIBANCO S-A|        BRASIL|           BB-|            BB-|\n",
      "|40000315|  7|LLOYS BANK INTERN...|   REINO UNIDO|          null|            AA-|\n",
      "|40000355|  6|BAYERISCHE LANDES...|ESTADOS UNIDOS|            A-|            AA+|\n",
      "|40000412|  9|       HSBC Bank PLC|   REINO UNIDO|            A+|            AA-|\n",
      "|41001007|  0|    Mizuho Bank Ltd.|         JAPON|            A-|              A|\n",
      "|41001042|  9|        UBS AG SUIZA|         SUIZA|            A+|            AAA|\n",
      "|41001047|  K|BCO DE OCCIDENTE ...|      COLOMBIA|          BBB-|            BBB|\n",
      "|41001068|  2|          BCO BOGOTA|      COLOMBIA|           BBB|            BBB|\n",
      "|41001073|  9|LANDESBANK HESSEN...|      ALEMANIA|             A|            AAA|\n",
      "|41001101|  8| JPMORGAN CHASE BANK|ESTADOS UNIDOS|            A-|            AA+|\n",
      "|41001110|  7|             BANCAFE|      COLOMBIA|           BBB|            BBB|\n",
      "|41001123|  9|BCO BRADESCO SA B...|        BRASIL|           BB-|            BB-|\n",
      "+--------+---+--------------------+--------------+--------------+---------------+\n",
      "only showing top 20 rows\n",
      "\n"
     ]
    }
   ],
   "source": [
    "df_master_pro = sc.sql('select rut, dv, nombre, pais, rating_empresa, RS.rating_soberano from MASTER2 M2 left join RATING_SOBERANO_HOMOL RS on upper(M2.pais_bbg) == upper(RS.pais_bbg)')\n",
    "df_master_pro.show()"
   ]
  },
  {
   "cell_type": "code",
   "execution_count": 20,
   "id": "5770277c",
   "metadata": {},
   "outputs": [],
   "source": [
    "df_master_pro.toPandas().to_csv('./master_rating.csv', sep='|')"
   ]
  },
  {
   "cell_type": "code",
   "execution_count": 21,
   "id": "58420a95",
   "metadata": {},
   "outputs": [],
   "source": [
    "sc.stop()"
   ]
  }
 ],
 "metadata": {
  "kernelspec": {
   "display_name": "Python 3.10.4 64-bit",
   "language": "python",
   "name": "python3"
  },
  "language_info": {
   "codemirror_mode": {
    "name": "ipython",
    "version": 3
   },
   "file_extension": ".py",
   "mimetype": "text/x-python",
   "name": "python",
   "nbconvert_exporter": "python",
   "pygments_lexer": "ipython3",
   "version": "3.10.4"
  },
  "vscode": {
   "interpreter": {
    "hash": "369f2c481f4da34e4445cda3fffd2e751bd1c4d706f27375911949ba6bb62e1c"
   }
  }
 },
 "nbformat": 4,
 "nbformat_minor": 5
}
